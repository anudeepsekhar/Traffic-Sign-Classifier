{
 "cells": [
  {
   "cell_type": "markdown",
   "metadata": {},
   "source": [
    "# Self-Driving Car Engineer Nanodegree\n",
    "\n",
    "## Deep Learning\n",
    "\n",
    "## Project: Build a Traffic Sign Recognition Classifier\n",
    "\n",
    "In this notebook, a template is provided for you to implement your functionality in stages, which is required to successfully complete this project. If additional code is required that cannot be included in the notebook, be sure that the Python code is successfully imported and included in your submission if necessary. \n",
    "\n",
    "> **Note**: Once you have completed all of the code implementations, you need to finalize your work by exporting the iPython Notebook as an HTML document. Before exporting the notebook to html, all of the code cells need to have been run so that reviewers can see the final implementation and output. You can then export the notebook by using the menu above and navigating to  \\n\",\n",
    "    \"**File -> Download as -> HTML (.html)**. Include the finished document along with this notebook as your submission. \n",
    "\n",
    "In addition to implementing code, there is a writeup to complete. The writeup should be completed in a separate file, which can be either a markdown file or a pdf document. There is a [write up template](https://github.com/udacity/CarND-Traffic-Sign-Classifier-Project/blob/master/writeup_template.md) that can be used to guide the writing process. Completing the code template and writeup template will cover all of the [rubric points](https://review.udacity.com/#!/rubrics/481/view) for this project.\n",
    "\n",
    "The [rubric](https://review.udacity.com/#!/rubrics/481/view) contains \"Stand Out Suggestions\" for enhancing the project beyond the minimum requirements. The stand out suggestions are optional. If you decide to pursue the \"stand out suggestions\", you can include the code in this Ipython notebook and also discuss the results in the writeup file.\n",
    "\n",
    "\n",
    ">**Note:** Code and Markdown cells can be executed using the **Shift + Enter** keyboard shortcut. In addition, Markdown cells can be edited by typically double-clicking the cell to enter edit mode."
   ]
  },
  {
   "cell_type": "markdown",
   "metadata": {},
   "source": [
    "---\n",
    "## Step 0: Load The Data"
   ]
  },
  {
   "cell_type": "code",
   "execution_count": 3,
   "metadata": {},
   "outputs": [
    {
     "name": "stdout",
     "output_type": "stream",
     "text": [
      "34799\n"
     ]
    }
   ],
   "source": [
    "# Load pickled data\n",
    "import pickle\n",
    "\n",
    "\n",
    "# TODO: Fill this in based on where you saved the training and testing data\n",
    "\n",
    "training_file = 'train.p'\n",
    "validation_file= 'valid.p'\n",
    "testing_file = 'test.p'\n",
    "\n",
    "with open(training_file, mode='rb') as f:\n",
    "    train = pickle.load(f)\n",
    "with open(validation_file, mode='rb') as f:\n",
    "    valid = pickle.load(f)\n",
    "with open(testing_file, mode='rb') as f:\n",
    "    test = pickle.load(f)\n",
    "    \n",
    "X_train, y_train = train['features'], train['labels']\n",
    "X_valid, y_valid = valid['features'], valid['labels']\n",
    "X_test, y_test = test['features'], test['labels']\n",
    "print(len(y_train))"
   ]
  },
  {
   "cell_type": "markdown",
   "metadata": {},
   "source": [
    "---\n",
    "\n",
    "## Step 1: Dataset Summary & Exploration\n",
    "\n",
    "The pickled data is a dictionary with 4 key/value pairs:\n",
    "\n",
    "- `'features'` is a 4D array containing raw pixel data of the traffic sign images, (num examples, width, height, channels).\n",
    "- `'labels'` is a 1D array containing the label/class id of the traffic sign. The file `signnames.csv` contains id -> name mappings for each id.\n",
    "- `'sizes'` is a list containing tuples, (width, height) representing the original width and height the image.\n",
    "- `'coords'` is a list containing tuples, (x1, y1, x2, y2) representing coordinates of a bounding box around the sign in the image. **THESE COORDINATES ASSUME THE ORIGINAL IMAGE. THE PICKLED DATA CONTAINS RESIZED VERSIONS (32 by 32) OF THESE IMAGES**\n",
    "\n",
    "Complete the basic data summary below. Use python, numpy and/or pandas methods to calculate the data summary rather than hard coding the results. For example, the [pandas shape method](http://pandas.pydata.org/pandas-docs/stable/generated/pandas.DataFrame.shape.html) might be useful for calculating some of the summary results. "
   ]
  },
  {
   "cell_type": "markdown",
   "metadata": {},
   "source": [
    "### Provide a Basic Summary of the Data Set Using Python, Numpy and/or Pandas"
   ]
  },
  {
   "cell_type": "code",
   "execution_count": 4,
   "metadata": {},
   "outputs": [
    {
     "name": "stdout",
     "output_type": "stream",
     "text": [
      "Image Shape =  (32, 32, 3)\n",
      "Number of training examples = 34799\n",
      "Number of testing examples = 12630\n",
      "Image data shape = (32, 32, 3)\n",
      "Number of classes = 43\n",
      "34799\n"
     ]
    }
   ],
   "source": [
    "### Replace each question mark with the appropriate value. \n",
    "### Use python, pandas or numpy methods rather than hard coding the results\n",
    "import numpy as np\n",
    "\n",
    "# TODO: Number of training examples\n",
    "n_train = len(X_train)\n",
    "\n",
    "# TODO: Number of validation examples\n",
    "n_validation = len(X_valid)\n",
    "\n",
    "# TODO: Number of testing examples.\n",
    "n_test = len(X_test)\n",
    "\n",
    "# TODO: What's the shape of an traffic sign image?\n",
    "image_shape = X_train[0].shape\n",
    "\n",
    "print('Image Shape = ',image_shape)\n",
    "\n",
    "# TODO: How many unique classes/labels there are in the dataset.\n",
    "n_classes = len(np.unique(y_train))\n",
    "\n",
    "print(\"Number of training examples =\", n_train)\n",
    "print(\"Number of testing examples =\", n_test)\n",
    "print(\"Image data shape =\", image_shape)\n",
    "print(\"Number of classes =\", n_classes)\n",
    "print(len(y_train))"
   ]
  },
  {
   "cell_type": "markdown",
   "metadata": {},
   "source": [
    "### Include an exploratory visualization of the dataset"
   ]
  },
  {
   "cell_type": "markdown",
   "metadata": {},
   "source": [
    "Visualize the German Traffic Signs Dataset using the pickled file(s). This is open ended, suggestions include: plotting traffic sign images, plotting the count of each sign, etc. \n",
    "\n",
    "The [Matplotlib](http://matplotlib.org/) [examples](http://matplotlib.org/examples/index.html) and [gallery](http://matplotlib.org/gallery.html) pages are a great resource for doing visualizations in Python.\n",
    "\n",
    "**NOTE:** It's recommended you start with something simple first. If you wish to do more, come back to it after you've completed the rest of the sections. It can be interesting to look at the distribution of classes in the training, validation and test set. Is the distribution the same? Are there more examples of some classes than others?"
   ]
  },
  {
   "cell_type": "code",
   "execution_count": 5,
   "metadata": {},
   "outputs": [
    {
     "data": {
      "image/png": "[encoded data removed]",
      "text/plain": [
       "<matplotlib.figure.Figure at 0x7f25b42fef60>"
      ]
     },
     "metadata": {},
     "output_type": "display_data"
    }
   ],
   "source": [
    "### Data exploration visualization code goes here.\n",
    "### Feel free to use as many code cells as needed.\n",
    "import matplotlib.pyplot as plt\n",
    "import random\n",
    "# Visualizations will be shown in the notebook.\n",
    "%matplotlib inline\n",
    "\n",
    "fig, axs = plt.subplots(2,5, figsize=(12, 6))\n",
    "fig.subplots_adjust(hspace = .2, wspace=.001)\n",
    "axs = axs.ravel()\n",
    "for i in range(10):\n",
    "    index = random.randint(0, len(X_train))\n",
    "    image = X_train[index]\n",
    "    axs[i].axis('off')\n",
    "    axs[i].imshow(image)\n",
    "    axs[i].set_title(y_train[index])\n"
   ]
  },
  {
   "cell_type": "code",
   "execution_count": 6,
   "metadata": {},
   "outputs": [
    {
     "data": {
      "image/png": "[encoded data removed]",
      "text/plain": [
       "<matplotlib.figure.Figure at 0x7f25af094da0>"
      ]
     },
     "metadata": {},
     "output_type": "display_data"
    }
   ],
   "source": [
    "# Visualizing Label data \n",
    "# histogram of label frequency\n",
    "f , (ax1, ax2, ax3) = plt.subplots(3 , sharex = True , sharey = True)\n",
    "f.set_figheight(20)\n",
    "f.set_figwidth(8)\n",
    "\n",
    "hist1, bins = np.histogram(y_train, bins=n_classes)\n",
    "hist2, bins = np.histogram(y_test, bins=n_classes)\n",
    "hist3, bins = np.histogram(y_valid, bins=n_classes)\n",
    "\n",
    "width = 0.7 * (bins[1] - bins[0])\n",
    "center = (bins[:-1] + bins[1:]) / 2\n",
    "ax1.bar(center, hist1, align='center', width=width)\n",
    "ax1.set_title(\"Training Data Set\")\n",
    "ax2.bar(center, hist2, align='center', width=width)\n",
    "ax2.set_title(\"Testing Data Set\")\n",
    "ax3.bar(center, hist3, align='center', width=width)\n",
    "ax3.set_title(\"Validation Data Set\")\n",
    "\n",
    "\n",
    "\n",
    "\n",
    "plt.show()"
   ]
  },
  {
   "cell_type": "markdown",
   "metadata": {},
   "source": [
    "----\n",
    "\n",
    "## Step 2: Design and Test a Model Architecture\n",
    "\n",
    "Design and implement a deep learning model that learns to recognize traffic signs. Train and test your model on the [German Traffic Sign Dataset](http://benchmark.ini.rub.de/?section=gtsrb&subsection=dataset).\n",
    "\n",
    "The LeNet-5 implementation shown in the [classroom](https://classroom.udacity.com/nanodegrees/nd013/parts/fbf77062-5703-404e-b60c-95b78b2f3f9e/modules/6df7ae49-c61c-4bb2-a23e-6527e69209ec/lessons/601ae704-1035-4287-8b11-e2c2716217ad/concepts/d4aca031-508f-4e0b-b493-e7b706120f81) at the end of the CNN lesson is a solid starting point. You'll have to change the number of classes and possibly the preprocessing, but aside from that it's plug and play! \n",
    "\n",
    "With the LeNet-5 solution from the lecture, you should expect a validation set accuracy of about 0.89. To meet specifications, the validation set accuracy will need to be at least 0.93. It is possible to get an even higher accuracy, but 0.93 is the minimum for a successful project submission. \n",
    "\n",
    "There are various aspects to consider when thinking about this problem:\n",
    "\n",
    "- Neural network architecture (is the network over or underfitting?)\n",
    "- Play around preprocessing techniques (normalization, rgb to grayscale, etc)\n",
    "- Number of examples per label (some have more than others).\n",
    "- Generate fake data.\n",
    "\n",
    "Here is an example of a [published baseline model on this problem](http://yann.lecun.com/exdb/publis/pdf/sermanet-ijcnn-11.pdf). It's not required to be familiar with the approach used in the paper but, it's good practice to try to read papers like these."
   ]
  },
  {
   "cell_type": "markdown",
   "metadata": {},
   "source": [
    "### Pre-process the Data Set (normalization, grayscale, etc.)"
   ]
  },
  {
   "cell_type": "markdown",
   "metadata": {},
   "source": [
    "Minimally, the image data should be normalized so that the data has mean zero and equal variance. For image data, `(pixel - 128)/ 128` is a quick way to approximately normalize the data and can be used in this project. \n",
    "\n",
    "Other pre-processing steps are optional. You can try different techniques to see if it improves performance. \n",
    "\n",
    "Use the code cell (or multiple code cells, if necessary) to implement the first step of your project."
   ]
  },
  {
   "cell_type": "code",
   "execution_count": 7,
   "metadata": {
    "collapsed": true
   },
   "outputs": [],
   "source": [
    "### Preprocess the data here. It is required to normalize the data. Other preprocessing steps could include \n",
    "### converting to grayscale, etc.\n",
    "### Feel free to use as many code cells as needed."
   ]
  },
  {
   "cell_type": "code",
   "execution_count": 8,
   "metadata": {},
   "outputs": [
    {
     "name": "stdout",
     "output_type": "stream",
     "text": [
      "RGB shape: (34799, 32, 32, 3)\n",
      "Grayscale shape: (34799, 32, 32, 1)\n",
      "training data mean: 82.677589037\n",
      "test data mean: 82.1484603612\n"
     ]
    }
   ],
   "source": [
    "# Converting to Grayscale\n",
    "\n",
    "X_train_rgb = X_train\n",
    "X_train_gry = np.sum(X_train/3, axis=3, keepdims=True)\n",
    "\n",
    "X_test_rgb = X_test\n",
    "X_test_gry = np.sum(X_test/3, axis=3, keepdims=True)\n",
    "\n",
    "print('RGB shape:', X_train_rgb.shape)\n",
    "print('Grayscale shape:', X_train_gry.shape)\n",
    "print('training data mean:',np.mean(X_train))\n",
    "print('test data mean:',np.mean(X_test))"
   ]
  },
  {
   "cell_type": "code",
   "execution_count": 9,
   "metadata": {},
   "outputs": [
    {
     "name": "stdout",
     "output_type": "stream",
     "text": [
      "After Normalizing\n",
      "training data mean: -0.354081335648\n",
      "test data mean: -0.358215153428\n"
     ]
    }
   ],
   "source": [
    "# Normalize the train and test datasets to (-1,1)\n",
    "X_train = X_train_gry\n",
    "X_test = X_test_gry\n",
    "X_train_normalized = (X_train - 128)/128 \n",
    "X_test_normalized = (X_test - 128)/128\n",
    "\n",
    "#X_train_normalized = (X_train_normalized - 128)/128 \n",
    "#X_test_normalized = (X_test_normalized - 128)/128\n",
    "\n",
    "print('After Normalizing')\n",
    "print('training data mean:',np.mean(X_train_normalized))\n",
    "print('test data mean:',np.mean(X_test_normalized))"
   ]
  },
  {
   "cell_type": "code",
   "execution_count": 10,
   "metadata": {},
   "outputs": [
    {
     "name": "stdout",
     "output_type": "stream",
     "text": [
      "Original shape: (34799, 32, 32, 1)\n",
      "Normalized shape: (34799, 32, 32, 1)\n"
     ]
    },
    {
     "data": {
      "text/plain": [
       "<matplotlib.image.AxesImage at 0x7f25aed07780>"
      ]
     },
     "execution_count": 10,
     "metadata": {},
     "output_type": "execute_result"
    },
    {
     "data": {
      "image/png": "[encoded data removed]",
      "text/plain": [
       "<matplotlib.figure.Figure at 0x7f25af3878d0>"
      ]
     },
     "metadata": {},
     "output_type": "display_data"
    }
   ],
   "source": [
    "print(\"Original shape:\", X_train.shape)\n",
    "print(\"Normalized shape:\", X_train_normalized.shape)\n",
    "fig, axs = plt.subplots(1,2, figsize=(10, 3))\n",
    "axs = axs.ravel()\n",
    "\n",
    "axs[0].axis('off')\n",
    "axs[0].set_title('normalized')\n",
    "axs[0].imshow(X_train_normalized[0].squeeze(), cmap='gray')\n",
    "\n",
    "axs[1].axis('off')\n",
    "axs[1].set_title('original')\n",
    "axs[1].imshow(X_train[0].squeeze(), cmap='gray')"
   ]
  },
  {
   "cell_type": "code",
   "execution_count": 11,
   "metadata": {},
   "outputs": [
    {
     "name": "stdout",
     "output_type": "stream",
     "text": [
      "shape in/out: (32, 32, 1) (32, 32, 1)\n"
     ]
    },
    {
     "data": {
      "image/png": "[encoded data removed]",
      "text/plain": [
       "<matplotlib.figure.Figure at 0x7f25af094940>"
      ]
     },
     "metadata": {},
     "output_type": "display_data"
    }
   ],
   "source": [
    "# Data Augmentation\n",
    "\n",
    "import cv2\n",
    "\n",
    "def random_translate(img):\n",
    "    rows,cols,_ = img.shape\n",
    "    \n",
    "    # allow translation up to px pixels in x and y directions\n",
    "    px = 2\n",
    "    dx,dy = np.random.randint(-px,px,2)\n",
    "\n",
    "    M = np.float32([[1,0,dx],[0,1,dy]])\n",
    "    dst = cv2.warpAffine(img,M,(cols,rows))\n",
    "    \n",
    "    dst = dst[:,:,np.newaxis]\n",
    "    #print(dst.shape)\n",
    "    return dst\n",
    "\n",
    "test_img = X_train_normalized[2222]\n",
    "\n",
    "test_dst = random_translate(test_img)\n",
    "\n",
    "fig, axs = plt.subplots(1,2, figsize=(10, 3))\n",
    "\n",
    "axs[0].axis('off')\n",
    "axs[0].imshow(test_img.squeeze(), cmap='gray')\n",
    "axs[0].set_title('original')\n",
    "\n",
    "axs[1].axis('off')\n",
    "axs[1].imshow(test_dst.squeeze(), cmap='gray')\n",
    "axs[1].set_title('translated')\n",
    "\n",
    "print('shape in/out:', test_img.shape, test_dst.shape)\n"
   ]
  },
  {
   "cell_type": "code",
   "execution_count": 12,
   "metadata": {},
   "outputs": [
    {
     "name": "stdout",
     "output_type": "stream",
     "text": [
      "shape in/out: (32, 32, 1) (32, 32, 1)\n"
     ]
    },
    {
     "data": {
      "image/png": "[encoded data removed]",
      "text/plain": [
       "<matplotlib.figure.Figure at 0x7f2596b6dcf8>"
      ]
     },
     "metadata": {},
     "output_type": "display_data"
    }
   ],
   "source": [
    "def random_scaling(img):   \n",
    "    rows,cols,_ = img.shape\n",
    "    \n",
    "    p = 5\n",
    "\n",
    "    # transform limits\n",
    "    px = np.random.randint(-p,p)\n",
    "\n",
    "    # ending locations\n",
    "    pts1 = np.float32([[px,px],[rows-px,px],[px,cols-px],[rows-px,cols-px]])\n",
    "\n",
    "    # starting locations (4 corners)\n",
    "    pts2 = np.float32([[0,0],[rows,0],[0,cols],[rows,cols]])\n",
    "\n",
    "    M = cv2.getPerspectiveTransform(pts1,pts2)\n",
    "\n",
    "    dst = cv2.warpPerspective(img,M,(rows,cols))\n",
    "    \n",
    "    dst = dst[:,:,np.newaxis]\n",
    "    #print(dst.shape)\n",
    "    return dst\n",
    "\n",
    "test_dst = random_scaling(test_img)\n",
    "    \n",
    "fig, axs = plt.subplots(1,2, figsize=(10, 3))\n",
    "\n",
    "axs[0].axis('off')\n",
    "axs[0].imshow(test_img.squeeze(), cmap='gray')\n",
    "axs[0].set_title('original')\n",
    "\n",
    "axs[1].axis('off')\n",
    "axs[1].imshow(test_dst.squeeze(), cmap='gray')\n",
    "axs[1].set_title('scaled')\n",
    "\n",
    "print('shape in/out:', test_img.shape, test_dst.shape)"
   ]
  },
  {
   "cell_type": "code",
   "execution_count": 13,
   "metadata": {},
   "outputs": [
    {
     "name": "stdout",
     "output_type": "stream",
     "text": [
      "shape in/out: (32, 32, 1) (32, 32, 1)\n"
     ]
    },
    {
     "data": {
      "image/png": "[encoded data removed]",
      "text/plain": [
       "<matplotlib.figure.Figure at 0x7f2596a98748>"
      ]
     },
     "metadata": {},
     "output_type": "display_data"
    }
   ],
   "source": [
    "def random_brightness(img):\n",
    "    shifted = img + 1.0   # shift to (0,2) range\n",
    "    img_max_value = max(shifted.flatten())\n",
    "    max_coef = 2.0/img_max_value\n",
    "    min_coef = max_coef - 0.1\n",
    "    coef = np.random.uniform(min_coef, max_coef)\n",
    "    dst = shifted * coef - 1.0\n",
    "    #print(dst.shape)\n",
    "    return dst\n",
    "\n",
    "test_dst = random_brightness(test_img)\n",
    "\n",
    "fig, axs = plt.subplots(1,2, figsize=(10, 3))\n",
    "\n",
    "axs[0].axis('off')\n",
    "axs[0].imshow(test_img.squeeze(), cmap='gray')\n",
    "axs[0].set_title('original')\n",
    "\n",
    "axs[1].axis('off')\n",
    "axs[1].imshow(test_dst.squeeze(), cmap='gray')\n",
    "axs[1].set_title('brightness adjusted')\n",
    "\n",
    "print('shape in/out:', test_img.shape, test_dst.shape)"
   ]
  },
  {
   "cell_type": "code",
   "execution_count": 14,
   "metadata": {},
   "outputs": [
    {
     "name": "stdout",
     "output_type": "stream",
     "text": [
      "X, y shapes: (34799, 32, 32, 1) (34799,)\n",
      "0 : 1 : 2 : 3 : 4 : 5 : 6 : 7 : 8 : 9 : 10 : 11 : 12 : 13 : 14 : 15 : 16 : 17 : 18 : 19 : 20 : 21 : 22 : 23 : 24 : 25 : 26 : 27 : 28 : 29 : 30 : 31 : 32 : 33 : 34 : 35 : 36 : 37 : 38 : 39 : 40 : 41 : 42 : X, y shapes: (54122, 32, 32, 1) (54122,)\n"
     ]
    }
   ],
   "source": [
    "print('X, y shapes:', X_train_normalized.shape, y_train.shape)\n",
    "\n",
    "input_indices = []\n",
    "output_indices = []\n",
    "\n",
    "for class_n in range(n_classes):\n",
    "    print(class_n, ': ', end='')\n",
    "    class_indices = np.where(y_train == class_n)\n",
    "    n_samples = len(class_indices[0])\n",
    "    if n_samples < 800:\n",
    "        for i in range(800 - n_samples + np.random.randint(200,400)):\n",
    "            input_indices.append(class_indices[0][i%n_samples])\n",
    "            output_indices.append(X_train_normalized.shape[0])\n",
    "            new_img = X_train_normalized[class_indices[0][i % n_samples]]\n",
    "            #print(new_img.shape)\n",
    "            new_img = random_translate(random_scaling(random_brightness(new_img)))\n",
    "            X_train_normalized = np.concatenate((X_train_normalized, [new_img]), axis=0)\n",
    "            y_train = np.concatenate((y_train, [class_n]), axis=0)\n",
    "            \n",
    "            \n",
    "print('X, y shapes:', X_train_normalized.shape, y_train.shape)\n",
    "\n"
   ]
  },
  {
   "cell_type": "code",
   "execution_count": 15,
   "metadata": {},
   "outputs": [
    {
     "data": {
      "image/png": "[encoded data removed]",
      "text/plain": [
       "<matplotlib.figure.Figure at 0x7f259695cb38>"
      ]
     },
     "metadata": {},
     "output_type": "display_data"
    }
   ],
   "source": [
    "# Visualizing Label data \n",
    "# histogram of label frequency\n",
    "\n",
    "hist, bins = np.histogram(y_train, bins=n_classes)\n",
    "width = 0.7 * (bins[1] - bins[0])\n",
    "center = (bins[:-1] + bins[1:]) / 2\n",
    "plt.bar(center, hist, align='center', width=width)\n",
    "plt.show()"
   ]
  },
  {
   "cell_type": "code",
   "execution_count": 16,
   "metadata": {},
   "outputs": [
    {
     "name": "stdout",
     "output_type": "stream",
     "text": [
      "done\n"
     ]
    }
   ],
   "source": [
    "## Shuffle the training dataset\n",
    "\n",
    "from sklearn.utils import shuffle\n",
    "\n",
    "X_train_normalized, y_train = shuffle(X_train_normalized, y_train)\n",
    "\n",
    "print('done')"
   ]
  },
  {
   "cell_type": "code",
   "execution_count": 17,
   "metadata": {},
   "outputs": [
    {
     "name": "stdout",
     "output_type": "stream",
     "text": [
      "Old X_train size: 54122\n",
      "New X_train size: 43297\n",
      "X_validation size: 10825\n"
     ]
    }
   ],
   "source": [
    "## Split validation dataset off from training dataset\n",
    "\n",
    "from sklearn.model_selection import train_test_split\n",
    "\n",
    "X_train, X_validation, y_train, y_validation = train_test_split(X_train_normalized, y_train, \n",
    "                                                                test_size=0.20, random_state=42)\n",
    "\n",
    "print(\"Old X_train size:\",len(X_train_normalized))\n",
    "print(\"New X_train size:\",len(X_train))\n",
    "print(\"X_validation size:\",len(X_validation))\n"
   ]
  },
  {
   "cell_type": "markdown",
   "metadata": {},
   "source": [
    "### Model Architecture"
   ]
  },
  {
   "cell_type": "code",
   "execution_count": 18,
   "metadata": {
    "collapsed": true
   },
   "outputs": [],
   "source": [
    "### Define your architecture here.\n",
    "### Feel free to use as many code cells as needed.\n",
    "\n",
    "from tensorflow.contrib.layers import flatten\n",
    "\n",
    "def LeNet(x, num_labels):\n",
    "    # Hyperparameters\n",
    "    mu = 0\n",
    "    sigma = 0.1\n",
    "    \n",
    "    # Convolutional Layer. Input = 32x32x1. Output = 28x28x48.\n",
    "    conv1_W = tf.Variable(tf.truncated_normal(shape=(5, 5, 1, 48), mean = mu, stddev = sigma))\n",
    "    conv1_b = tf.Variable(tf.zeros([48]))\n",
    "    conv1 = tf.nn.conv2d(x, conv1_W, strides=[1, 1, 1, 1], padding='VALID') + conv1_b\n",
    "    conv1 = tf.nn.relu(conv1)\n",
    "\n",
    "    # Max Pooling. Input = 28x28x48. Output = 14x14x48.\n",
    "    conv1 = tf.nn.max_pool(conv1, ksize=[1, 2, 2, 1], strides=[1, 2, 2, 1], padding='VALID')\n",
    "\n",
    "    # Convolutional Layer. Output = 10x10x96.\n",
    "    conv2_W = tf.Variable(tf.truncated_normal(shape=(5, 5, 48, 96), mean = mu, stddev = sigma))\n",
    "    conv2_b = tf.Variable(tf.zeros([96]))\n",
    "    conv2 = tf.nn.conv2d(conv1, conv2_W, strides=[1, 1, 1, 1], padding='VALID') + conv2_b\n",
    "    conv2 = tf.nn.relu(conv2)\n",
    "\n",
    "    # Max Pooling. Input = 10x10x96. Output = 5x5x96.\n",
    "    conv2 = tf.nn.max_pool(conv2, ksize=[1, 2, 2, 1], strides=[1, 2, 2, 1], padding='VALID')\n",
    "    \n",
    "    # Convolutional Layer. Input = 5x5x96. Output = 3x3x172.\n",
    "    conv3_W = tf.Variable(tf.truncated_normal(shape=(3, 3, 96, 172), mean = mu, stddev = sigma))\n",
    "    conv3_b = tf.Variable(tf.zeros([172]))\n",
    "    conv3 = tf.nn.conv2d(conv2, conv3_W, strides=[1, 1, 1, 1], padding='VALID') + conv3_b\n",
    "    conv3 = tf.nn.relu(conv3)\n",
    "    \n",
    "    # Max Pooling. Input = 3x3x172. Output = 2x2x172.\n",
    "    conv3 = tf.nn.max_pool(conv3, ksize=[1, 2, 2, 1], strides=[1, 1, 1, 1], padding='VALID')\n",
    "    \n",
    "    # Flatten. Input = 2x2x172. Output = 688.\n",
    "    fc1 = flatten(conv3)\n",
    "    \n",
    "    # Fully Connected. Input = 688. Output = 84.\n",
    "    fc2_W = tf.Variable(tf.truncated_normal(shape=(688 , 84), mean = mu, stddev = sigma))\n",
    "    fc2_b = tf.Variable(tf.zeros([84]))\n",
    "    fc2 = tf.nn.xw_plus_b(fc1, fc2_W, fc2_b)\n",
    "    fc2 = tf.nn.relu(fc2)\n",
    "\n",
    "    # Fully Connected. Input = 84. Output = 43.\n",
    "    fc3_W = tf.Variable(tf.truncated_normal(shape=(84, num_labels), mean = mu, stddev = sigma))\n",
    "    fc3_b = tf.Variable(tf.zeros([num_labels]))\n",
    "    logits = tf.nn.xw_plus_b(fc2, fc3_W, fc3_b)\n",
    "    \n",
    "    return logits\n"
   ]
  },
  {
   "cell_type": "code",
   "execution_count": 19,
   "metadata": {
    "collapsed": true
   },
   "outputs": [],
   "source": [
    "import tensorflow as tf\n",
    "\n",
    "tf.reset_default_graph()\n",
    "\n",
    "x = tf.placeholder(tf.float32, (None, 32, 32, 1))\n",
    "y = tf.placeholder(tf.int32, (None))\n",
    "keep_prob = tf.placeholder(tf.float32)\n",
    "one_hot_y = tf.one_hot(y, 43)\n"
   ]
  },
  {
   "cell_type": "markdown",
   "metadata": {},
   "source": [
    "### Train, Validate and Test the Model"
   ]
  },
  {
   "cell_type": "markdown",
   "metadata": {},
   "source": [
    "A validation set can be used to assess how well the model is performing. A low accuracy on the training and validation\n",
    "sets imply underfitting. A high accuracy on the training set but low accuracy on the validation set implies overfitting."
   ]
  },
  {
   "cell_type": "code",
   "execution_count": 20,
   "metadata": {
    "collapsed": true
   },
   "outputs": [],
   "source": [
    "### Train your model here.\n",
    "### Calculate and report the accuracy on the training and validation set.\n",
    "### Once a final model architecture is selected, \n",
    "### the accuracy on the test set should be calculated and reported as well.\n",
    "### Feel free to use as many code cells as needed."
   ]
  },
  {
   "cell_type": "code",
   "execution_count": 21,
   "metadata": {},
   "outputs": [],
   "source": [
    "# Training the model\n",
    "\n",
    "EPOCHS = 100\n",
    "BATCH_SIZE = 128\n",
    "\n",
    "rate = 0.001\n",
    "\n",
    "logits = LeNet(x,n_classes)\n",
    "cross_entropy = tf.nn.softmax_cross_entropy_with_logits(logits = logits, labels =  one_hot_y)\n",
    "loss_operation = tf.reduce_mean(cross_entropy)\n",
    "optimizer = tf.train.AdamOptimizer(learning_rate = rate)\n",
    "training_operation = optimizer.minimize(loss_operation)"
   ]
  },
  {
   "cell_type": "code",
   "execution_count": 22,
   "metadata": {
    "collapsed": true
   },
   "outputs": [],
   "source": [
    "correct_prediction = tf.equal(tf.argmax(logits, 1), tf.argmax(one_hot_y, 1))\n",
    "accuracy_operation = tf.reduce_mean(tf.cast(correct_prediction, tf.float32))\n",
    "saver = tf.train.Saver()\n",
    "\n",
    "def evaluate(X_data, y_data):\n",
    "    num_examples = len(X_data)\n",
    "    total_accuracy = 0\n",
    "    sess = tf.get_default_session()\n",
    "    for offset in range(0, num_examples, BATCH_SIZE):\n",
    "        batch_x, batch_y = X_data[offset:offset+BATCH_SIZE], y_data[offset:offset+BATCH_SIZE]\n",
    "        accuracy = sess.run(accuracy_operation, feed_dict={x: batch_x, y: batch_y, keep_prob: 1.0})\n",
    "        total_accuracy += (accuracy * len(batch_x))\n",
    "    return total_accuracy / num_examples"
   ]
  },
  {
   "cell_type": "code",
   "execution_count": 23,
   "metadata": {},
   "outputs": [
    {
     "name": "stdout",
     "output_type": "stream",
     "text": [
      "Training...\n",
      "\n",
      "EPOCH 1 ...\n",
      "Validation Accuracy = 0.928\n",
      "Test Accuracy = 0.758\n",
      "\n",
      "EPOCH 2 ...\n",
      "Validation Accuracy = 0.966\n",
      "Test Accuracy = 0.810\n",
      "\n",
      "EPOCH 3 ...\n",
      "Validation Accuracy = 0.976\n",
      "Test Accuracy = 0.836\n",
      "\n",
      "EPOCH 4 ...\n",
      "Validation Accuracy = 0.983\n",
      "Test Accuracy = 0.834\n",
      "\n",
      "EPOCH 5 ...\n",
      "Validation Accuracy = 0.973\n",
      "Test Accuracy = 0.836\n",
      "\n",
      "EPOCH 6 ...\n",
      "Validation Accuracy = 0.985\n",
      "Test Accuracy = 0.907\n",
      "\n",
      "EPOCH 7 ...\n",
      "Validation Accuracy = 0.980\n",
      "Test Accuracy = 0.887\n",
      "\n",
      "EPOCH 8 ...\n",
      "Validation Accuracy = 0.990\n",
      "Test Accuracy = 0.909\n",
      "\n",
      "EPOCH 9 ...\n",
      "Validation Accuracy = 0.987\n",
      "Test Accuracy = 0.898\n",
      "\n",
      "EPOCH 10 ...\n",
      "Validation Accuracy = 0.973\n",
      "Test Accuracy = 0.858\n",
      "\n",
      "EPOCH 11 ...\n",
      "Validation Accuracy = 0.983\n",
      "Test Accuracy = 0.833\n",
      "\n",
      "EPOCH 12 ...\n",
      "Validation Accuracy = 0.989\n",
      "Test Accuracy = 0.872\n",
      "\n",
      "EPOCH 13 ...\n",
      "Validation Accuracy = 0.987\n",
      "Test Accuracy = 0.867\n",
      "\n",
      "EPOCH 14 ...\n",
      "Validation Accuracy = 0.989\n",
      "Test Accuracy = 0.872\n",
      "\n",
      "EPOCH 15 ...\n",
      "Validation Accuracy = 0.991\n",
      "Test Accuracy = 0.911\n",
      "\n",
      "EPOCH 16 ...\n",
      "Validation Accuracy = 0.988\n",
      "Test Accuracy = 0.885\n",
      "\n",
      "EPOCH 17 ...\n",
      "Validation Accuracy = 0.978\n",
      "Test Accuracy = 0.862\n",
      "\n",
      "EPOCH 18 ...\n",
      "Validation Accuracy = 0.992\n",
      "Test Accuracy = 0.909\n",
      "\n",
      "EPOCH 19 ...\n",
      "Validation Accuracy = 0.989\n",
      "Test Accuracy = 0.901\n",
      "\n",
      "EPOCH 20 ...\n",
      "Validation Accuracy = 0.989\n",
      "Test Accuracy = 0.860\n",
      "\n",
      "EPOCH 21 ...\n",
      "Validation Accuracy = 0.982\n",
      "Test Accuracy = 0.870\n",
      "\n",
      "EPOCH 22 ...\n",
      "Validation Accuracy = 0.993\n",
      "Test Accuracy = 0.909\n",
      "\n",
      "EPOCH 23 ...\n",
      "Validation Accuracy = 0.988\n",
      "Test Accuracy = 0.904\n",
      "\n",
      "EPOCH 24 ...\n",
      "Validation Accuracy = 0.991\n",
      "Test Accuracy = 0.919\n",
      "\n",
      "EPOCH 25 ...\n",
      "Validation Accuracy = 0.994\n",
      "Test Accuracy = 0.899\n",
      "\n",
      "EPOCH 26 ...\n",
      "Validation Accuracy = 0.993\n",
      "Test Accuracy = 0.924\n",
      "\n",
      "EPOCH 27 ...\n",
      "Validation Accuracy = 0.995\n",
      "Test Accuracy = 0.930\n",
      "\n",
      "EPOCH 28 ...\n",
      "Validation Accuracy = 0.994\n",
      "Test Accuracy = 0.927\n",
      "\n",
      "EPOCH 29 ...\n",
      "Validation Accuracy = 0.989\n",
      "Test Accuracy = 0.904\n",
      "\n",
      "EPOCH 30 ...\n",
      "Validation Accuracy = 0.992\n",
      "Test Accuracy = 0.897\n",
      "\n",
      "EPOCH 31 ...\n",
      "Validation Accuracy = 0.992\n",
      "Test Accuracy = 0.893\n",
      "\n",
      "EPOCH 32 ...\n",
      "Validation Accuracy = 0.994\n",
      "Test Accuracy = 0.910\n",
      "\n",
      "EPOCH 33 ...\n",
      "Validation Accuracy = 0.990\n",
      "Test Accuracy = 0.919\n",
      "\n",
      "EPOCH 34 ...\n",
      "Validation Accuracy = 0.993\n",
      "Test Accuracy = 0.909\n",
      "\n",
      "EPOCH 35 ...\n",
      "Validation Accuracy = 0.993\n",
      "Test Accuracy = 0.892\n",
      "\n",
      "EPOCH 36 ...\n",
      "Validation Accuracy = 0.995\n",
      "Test Accuracy = 0.885\n",
      "\n",
      "EPOCH 37 ...\n",
      "Validation Accuracy = 0.995\n",
      "Test Accuracy = 0.894\n",
      "\n",
      "EPOCH 38 ...\n",
      "Validation Accuracy = 0.996\n",
      "Test Accuracy = 0.897\n",
      "\n",
      "EPOCH 39 ...\n",
      "Validation Accuracy = 0.996\n",
      "Test Accuracy = 0.897\n",
      "\n",
      "EPOCH 40 ...\n",
      "Validation Accuracy = 0.996\n",
      "Test Accuracy = 0.898\n",
      "\n",
      "EPOCH 41 ...\n",
      "Validation Accuracy = 0.996\n",
      "Test Accuracy = 0.899\n",
      "\n",
      "EPOCH 42 ...\n",
      "Validation Accuracy = 0.996\n",
      "Test Accuracy = 0.900\n",
      "\n",
      "EPOCH 43 ...\n",
      "Validation Accuracy = 0.996\n",
      "Test Accuracy = 0.900\n",
      "\n",
      "EPOCH 44 ...\n",
      "Validation Accuracy = 0.996\n",
      "Test Accuracy = 0.901\n",
      "\n",
      "EPOCH 45 ...\n",
      "Validation Accuracy = 0.996\n",
      "Test Accuracy = 0.901\n",
      "\n",
      "EPOCH 46 ...\n",
      "Validation Accuracy = 0.996\n",
      "Test Accuracy = 0.902\n",
      "\n",
      "EPOCH 47 ...\n",
      "Validation Accuracy = 0.997\n",
      "Test Accuracy = 0.902\n",
      "\n",
      "EPOCH 48 ...\n",
      "Validation Accuracy = 0.997\n",
      "Test Accuracy = 0.903\n",
      "\n",
      "EPOCH 49 ...\n",
      "Validation Accuracy = 0.997\n",
      "Test Accuracy = 0.903\n",
      "\n",
      "EPOCH 50 ...\n",
      "Validation Accuracy = 0.997\n",
      "Test Accuracy = 0.903\n",
      "\n",
      "EPOCH 51 ...\n",
      "Validation Accuracy = 0.997\n",
      "Test Accuracy = 0.904\n",
      "\n",
      "EPOCH 52 ...\n",
      "Validation Accuracy = 0.997\n",
      "Test Accuracy = 0.904\n",
      "\n",
      "EPOCH 53 ...\n",
      "Validation Accuracy = 0.997\n",
      "Test Accuracy = 0.905\n",
      "\n",
      "EPOCH 54 ...\n",
      "Validation Accuracy = 0.997\n",
      "Test Accuracy = 0.905\n",
      "\n",
      "EPOCH 55 ...\n",
      "Validation Accuracy = 0.997\n",
      "Test Accuracy = 0.904\n",
      "\n",
      "EPOCH 56 ...\n",
      "Validation Accuracy = 0.997\n",
      "Test Accuracy = 0.905\n",
      "\n",
      "EPOCH 57 ...\n",
      "Validation Accuracy = 0.996\n",
      "Test Accuracy = 0.906\n",
      "\n",
      "EPOCH 58 ...\n",
      "Validation Accuracy = 0.997\n",
      "Test Accuracy = 0.906\n",
      "\n",
      "EPOCH 59 ...\n",
      "Validation Accuracy = 0.997\n",
      "Test Accuracy = 0.907\n",
      "\n",
      "EPOCH 60 ...\n",
      "Validation Accuracy = 0.997\n",
      "Test Accuracy = 0.907\n",
      "\n",
      "EPOCH 61 ...\n",
      "Validation Accuracy = 0.997\n",
      "Test Accuracy = 0.908\n",
      "\n",
      "EPOCH 62 ...\n",
      "Validation Accuracy = 0.997\n",
      "Test Accuracy = 0.908\n",
      "\n",
      "EPOCH 63 ...\n",
      "Validation Accuracy = 0.996\n",
      "Test Accuracy = 0.909\n",
      "\n",
      "EPOCH 64 ...\n",
      "Validation Accuracy = 0.997\n",
      "Test Accuracy = 0.908\n",
      "\n",
      "EPOCH 65 ...\n",
      "Validation Accuracy = 0.997\n",
      "Test Accuracy = 0.909\n",
      "\n",
      "EPOCH 66 ...\n",
      "Validation Accuracy = 0.997\n",
      "Test Accuracy = 0.910\n",
      "\n",
      "EPOCH 67 ...\n",
      "Validation Accuracy = 0.997\n",
      "Test Accuracy = 0.910\n",
      "\n",
      "EPOCH 68 ...\n",
      "Validation Accuracy = 0.997\n",
      "Test Accuracy = 0.911\n",
      "\n",
      "EPOCH 69 ...\n",
      "Validation Accuracy = 0.997\n",
      "Test Accuracy = 0.911\n",
      "\n",
      "EPOCH 70 ...\n",
      "Validation Accuracy = 0.996\n",
      "Test Accuracy = 0.911\n",
      "\n",
      "EPOCH 71 ...\n",
      "Validation Accuracy = 0.987\n",
      "Test Accuracy = 0.819\n",
      "\n",
      "EPOCH 72 ...\n",
      "Validation Accuracy = 0.994\n",
      "Test Accuracy = 0.878\n",
      "\n",
      "EPOCH 73 ...\n",
      "Validation Accuracy = 0.994\n",
      "Test Accuracy = 0.896\n",
      "\n",
      "EPOCH 74 ...\n",
      "Validation Accuracy = 0.991\n",
      "Test Accuracy = 0.873\n",
      "\n",
      "EPOCH 75 ...\n",
      "Validation Accuracy = 0.993\n",
      "Test Accuracy = 0.879\n",
      "\n",
      "EPOCH 76 ...\n",
      "Validation Accuracy = 0.991\n",
      "Test Accuracy = 0.750\n",
      "\n",
      "EPOCH 77 ...\n",
      "Validation Accuracy = 0.990\n",
      "Test Accuracy = 0.764\n",
      "\n",
      "EPOCH 78 ...\n",
      "Validation Accuracy = 0.993\n",
      "Test Accuracy = 0.919\n",
      "\n",
      "EPOCH 79 ...\n",
      "Validation Accuracy = 0.993\n",
      "Test Accuracy = 0.876\n",
      "\n",
      "EPOCH 80 ...\n",
      "Validation Accuracy = 0.992\n",
      "Test Accuracy = 0.847\n",
      "\n",
      "EPOCH 81 ...\n",
      "Validation Accuracy = 0.992\n",
      "Test Accuracy = 0.865\n",
      "\n",
      "EPOCH 82 ...\n",
      "Validation Accuracy = 0.995\n",
      "Test Accuracy = 0.901\n",
      "\n",
      "EPOCH 83 ...\n",
      "Validation Accuracy = 0.992\n",
      "Test Accuracy = 0.861\n",
      "\n",
      "EPOCH 84 ...\n",
      "Validation Accuracy = 0.987\n",
      "Test Accuracy = 0.878\n",
      "\n",
      "EPOCH 85 ...\n",
      "Validation Accuracy = 0.991\n",
      "Test Accuracy = 0.751\n",
      "\n",
      "EPOCH 86 ...\n",
      "Validation Accuracy = 0.993\n",
      "Test Accuracy = 0.855\n",
      "\n",
      "EPOCH 87 ...\n",
      "Validation Accuracy = 0.995\n",
      "Test Accuracy = 0.844\n",
      "\n",
      "EPOCH 88 ...\n",
      "Validation Accuracy = 0.992\n",
      "Test Accuracy = 0.816\n",
      "\n",
      "EPOCH 89 ...\n",
      "Validation Accuracy = 0.993\n",
      "Test Accuracy = 0.822\n",
      "\n",
      "EPOCH 90 ...\n",
      "Validation Accuracy = 0.992\n",
      "Test Accuracy = 0.871\n",
      "\n",
      "EPOCH 91 ...\n",
      "Validation Accuracy = 0.993\n",
      "Test Accuracy = 0.875\n",
      "\n",
      "EPOCH 92 ...\n",
      "Validation Accuracy = 0.990\n",
      "Test Accuracy = 0.849\n",
      "\n",
      "EPOCH 93 ...\n",
      "Validation Accuracy = 0.994\n",
      "Test Accuracy = 0.852\n",
      "\n",
      "EPOCH 94 ...\n",
      "Validation Accuracy = 0.993\n",
      "Test Accuracy = 0.819\n",
      "\n",
      "EPOCH 95 ...\n",
      "Validation Accuracy = 0.992\n",
      "Test Accuracy = 0.783\n",
      "\n",
      "EPOCH 96 ...\n",
      "Validation Accuracy = 0.993\n",
      "Test Accuracy = 0.753\n",
      "\n",
      "EPOCH 97 ...\n",
      "Validation Accuracy = 0.995\n",
      "Test Accuracy = 0.880\n",
      "\n",
      "EPOCH 98 ...\n",
      "Validation Accuracy = 0.993\n",
      "Test Accuracy = 0.778\n",
      "\n",
      "EPOCH 99 ...\n",
      "Validation Accuracy = 0.995\n",
      "Test Accuracy = 0.775\n",
      "\n",
      "EPOCH 100 ...\n",
      "Validation Accuracy = 0.996\n",
      "Test Accuracy = 0.804\n",
      "\n",
      "Model saved\n"
     ]
    }
   ],
   "source": [
    "with tf.Session() as sess:\n",
    "    sess.run(tf.global_variables_initializer())\n",
    "    num_examples = len(X_train)\n",
    "    \n",
    "    print(\"Training...\")\n",
    "    print()\n",
    "    for i in range(EPOCHS):\n",
    "        X_train, y_train = shuffle(X_train, y_train)\n",
    "        for offset in range(0, num_examples, BATCH_SIZE):\n",
    "            end = offset + BATCH_SIZE\n",
    "            batch_x, batch_y = X_train[offset:end], y_train[offset:end]\n",
    "            sess.run(training_operation, feed_dict={x: batch_x, y: batch_y, keep_prob: 0.5})    \n",
    "        \n",
    "        validation_accuracy = evaluate(X_validation, y_validation)\n",
    "        print(\"EPOCH {} ...\".format(i+1))\n",
    "        print(\"Validation Accuracy = {:.3f}\".format(validation_accuracy))\n",
    "        \n",
    "        test_accuracy = evaluate(X_test, y_test)\n",
    "        print(\"Test Accuracy = {:.3f}\".format(test_accuracy))\n",
    "        print()\n",
    "        \n",
    "    try:\n",
    "        saver\n",
    "    except NameError:\n",
    "        saver = tf.train.Saver()\n",
    "    saver.save(sess, 'lenet')\n",
    "    print(\"Model saved\")"
   ]
  },
  {
   "cell_type": "code",
   "execution_count": 24,
   "metadata": {},
   "outputs": [
    {
     "name": "stdout",
     "output_type": "stream",
     "text": [
      "Test Set Accuracy = 0.956\n"
     ]
    }
   ],
   "source": [
    "with tf.Session() as sess:\n",
    "    sess.run(tf.global_variables_initializer())\n",
    "    saver2 = tf.train.import_meta_graph('./lenet.meta')\n",
    "    saver2.restore(sess, \"./lenet\")\n",
    "    test_accuracy = evaluate(X_test_normalized, y_test)\n",
    "    print(\"Test Set Accuracy = {:.3f}\".format(test_accuracy))\n"
   ]
  },
  {
   "cell_type": "markdown",
   "metadata": {},
   "source": [
    "---\n",
    "\n",
    "## Step 3: Test a Model on New Images\n",
    "\n",
    "To give yourself more insight into how your model is working, download at least five pictures of German traffic signs from the web and use your model to predict the traffic sign type.\n",
    "\n",
    "You may find `signnames.csv` useful as it contains mappings from the class id (integer) to the actual sign name."
   ]
  },
  {
   "cell_type": "markdown",
   "metadata": {},
   "source": [
    "### Load and Output the Images"
   ]
  },
  {
   "cell_type": "code",
   "execution_count": null,
   "metadata": {
    "collapsed": true
   },
   "outputs": [],
   "source": [
    "# Reinitialize and re-import if starting a new kernel here\n",
    "import matplotlib.pyplot as plt\n",
    "%matplotlib inline\n",
    "\n",
    "import tensorflow as tf\n",
    "import numpy as np\n",
    "import cv2\n",
    "\n",
    "print('done')"
   ]
  },
  {
   "cell_type": "code",
   "execution_count": null,
   "metadata": {
    "collapsed": true
   },
   "outputs": [],
   "source": [
    "### Load the images and plot them here.\n",
    "### Feel free to use as many code cells as needed.\n",
    "#reading in an image\n",
    "fig, axs = plt.subplots(2,6, figsize=(4, 2))\n",
    "fig.subplots_adjust(hspace = .2, wspace=.001)\n",
    "axs = axs.ravel()\n",
    "\n",
    "img1 = cv2.imread('images/1.jpg')\n",
    "img2 = cv2.imread('images/2.jpg')\n",
    "img3 = cv2.imread('images/3.jpg')\n",
    "img4 = cv2.imread('images/4.jpg')\n",
    "img5 = cv2.imread('images/5.jpg')\n",
    "img6 = cv2.imread('images/6.jpg')\n",
    "img7 = cv2.imread('images/7.jpg')\n",
    "img8 = cv2.imread('images/8.jpg')\n",
    "img9 = cv2.imread('images/9.jpg')\n",
    "img10 = cv2.imread('images/10.jpg')\n",
    "img11 = cv2.imread('images/11.jpg')\n",
    "img12 = cv2.imread('images/12.jpg')\n",
    "\n",
    "images = [img1, img2, img3, img4, img5, img6 , img7, img8, img9, img10, img11, img12]\n",
    "processed_imgs = []\n",
    "\n",
    "for img in images:\n",
    "    plt.figure(figsize=(1,1))\n",
    "    plt.imshow(cv2.cvtColor(img, cv2.COLOR_BGR2RGB))\n",
    "    plt.axis('off')\n",
    "    processed_imgs.append(img)\n",
    "\n",
    "processed_imgs = np.asarray(processed_imgs)\n",
    "\n",
    "processed_imgs_gry = np.sum(processed_imgs/3, axis=3, keepdims=True)\n",
    "\n",
    "processed_imgs_normalized = (processed_imgs_gry - 128)/128 \n",
    "\n",
    "print(processed_imgs_normalized.shape)\n"
   ]
  },
  {
   "cell_type": "markdown",
   "metadata": {},
   "source": [
    "### Predict the Sign Type for Each Image"
   ]
  },
  {
   "cell_type": "code",
   "execution_count": null,
   "metadata": {
    "collapsed": true
   },
   "outputs": [],
   "source": [
    "### Run the predictions here and use the model to output the prediction for each image.\n",
    "### Make sure to pre-process the images with the same pre-processing pipeline used earlier.\n",
    "### Feel free to use as many code cells as needed."
   ]
  },
  {
   "cell_type": "markdown",
   "metadata": {},
   "source": [
    "### Analyze Performance"
   ]
  },
  {
   "cell_type": "code",
   "execution_count": null,
   "metadata": {
    "collapsed": true
   },
   "outputs": [],
   "source": [
    "### Calculate the accuracy for these 5 new images. \n",
    "### For example, if the model predicted 1 out of 5 signs correctly, it's 20% accurate on these new images."
   ]
  },
  {
   "cell_type": "markdown",
   "metadata": {},
   "source": [
    "### Output Top 5 Softmax Probabilities For Each Image Found on the Web"
   ]
  },
  {
   "cell_type": "markdown",
   "metadata": {},
   "source": [
    "For each of the new images, print out the model's softmax probabilities to show the **certainty** of the model's predictions (limit the output to the top 5 probabilities for each image). [`tf.nn.top_k`](https://www.tensorflow.org/versions/r0.12/api_docs/python/nn.html#top_k) could prove helpful here. \n",
    "\n",
    "The example below demonstrates how tf.nn.top_k can be used to find the top k predictions for each image.\n",
    "\n",
    "`tf.nn.top_k` will return the values and indices (class ids) of the top k predictions. So if k=3, for each sign, it'll return the 3 largest probabilities (out of a possible 43) and the correspoding class ids.\n",
    "\n",
    "Take this numpy array as an example. The values in the array represent predictions. The array contains softmax probabilities for five candidate images with six possible classes. `tf.nn.top_k` is used to choose the three classes with the highest probability:\n",
    "\n",
    "```\n",
    "# (5, 6) array\n",
    "a = np.array([[ 0.24879643,  0.07032244,  0.12641572,  0.34763842,  0.07893497,\n",
    "         0.12789202],\n",
    "       [ 0.28086119,  0.27569815,  0.08594638,  0.0178669 ,  0.18063401,\n",
    "         0.15899337],\n",
    "       [ 0.26076848,  0.23664738,  0.08020603,  0.07001922,  0.1134371 ,\n",
    "         0.23892179],\n",
    "       [ 0.11943333,  0.29198961,  0.02605103,  0.26234032,  0.1351348 ,\n",
    "         0.16505091],\n",
    "       [ 0.09561176,  0.34396535,  0.0643941 ,  0.16240774,  0.24206137,\n",
    "         0.09155967]])\n",
    "```\n",
    "\n",
    "Running it through `sess.run(tf.nn.top_k(tf.constant(a), k=3))` produces:\n",
    "\n",
    "```\n",
    "TopKV2(values=array([[ 0.34763842,  0.24879643,  0.12789202],\n",
    "       [ 0.28086119,  0.27569815,  0.18063401],\n",
    "       [ 0.26076848,  0.23892179,  0.23664738],\n",
    "       [ 0.29198961,  0.26234032,  0.16505091],\n",
    "       [ 0.34396535,  0.24206137,  0.16240774]]), indices=array([[3, 0, 5],\n",
    "       [0, 1, 4],\n",
    "       [0, 5, 1],\n",
    "       [1, 3, 5],\n",
    "       [1, 4, 3]], dtype=int32))\n",
    "```\n",
    "\n",
    "Looking just at the first row we get `[ 0.34763842,  0.24879643,  0.12789202]`, you can confirm these are the 3 largest probabilities in `a`. You'll also notice `[3, 0, 5]` are the corresponding indices."
   ]
  },
  {
   "cell_type": "code",
   "execution_count": null,
   "metadata": {
    "collapsed": true
   },
   "outputs": [],
   "source": [
    "### Print out the top five softmax probabilities for the predictions on the German traffic sign images found on the web. \n",
    "### Feel free to use as many code cells as needed."
   ]
  },
  {
   "cell_type": "markdown",
   "metadata": {},
   "source": [
    "### Project Writeup\n",
    "\n",
    "Once you have completed the code implementation, document your results in a project writeup using this [template](https://github.com/udacity/CarND-Traffic-Sign-Classifier-Project/blob/master/writeup_template.md) as a guide. The writeup can be in a markdown or pdf file. "
   ]
  },
  {
   "cell_type": "markdown",
   "metadata": {},
   "source": [
    "> **Note**: Once you have completed all of the code implementations and successfully answered each question above, you may finalize your work by exporting the iPython Notebook as an HTML document. You can do this by using the menu above and navigating to  \\n\",\n",
    "    \"**File -> Download as -> HTML (.html)**. Include the finished document along with this notebook as your submission."
   ]
  },
  {
   "cell_type": "markdown",
   "metadata": {},
   "source": [
    "---\n",
    "\n",
    "## Step 4 (Optional): Visualize the Neural Network's State with Test Images\n",
    "\n",
    " This Section is not required to complete but acts as an additional excersise for understaning the output of a neural network's weights. While neural networks can be a great learning device they are often referred to as a black box. We can understand what the weights of a neural network look like better by plotting their feature maps. After successfully training your neural network you can see what it's feature maps look like by plotting the output of the network's weight layers in response to a test stimuli image. From these plotted feature maps, it's possible to see what characteristics of an image the network finds interesting. For a sign, maybe the inner network feature maps react with high activation to the sign's boundary outline or to the contrast in the sign's painted symbol.\n",
    "\n",
    " Provided for you below is the function code that allows you to get the visualization output of any tensorflow weight layer you want. The inputs to the function should be a stimuli image, one used during training or a new one you provided, and then the tensorflow variable name that represents the layer's state during the training process, for instance if you wanted to see what the [LeNet lab's](https://classroom.udacity.com/nanodegrees/nd013/parts/fbf77062-5703-404e-b60c-95b78b2f3f9e/modules/6df7ae49-c61c-4bb2-a23e-6527e69209ec/lessons/601ae704-1035-4287-8b11-e2c2716217ad/concepts/d4aca031-508f-4e0b-b493-e7b706120f81) feature maps looked like for it's second convolutional layer you could enter conv2 as the tf_activation variable.\n",
    "\n",
    "For an example of what feature map outputs look like, check out NVIDIA's results in their paper [End-to-End Deep Learning for Self-Driving Cars](https://devblogs.nvidia.com/parallelforall/deep-learning-self-driving-cars/) in the section Visualization of internal CNN State. NVIDIA was able to show that their network's inner weights had high activations to road boundary lines by comparing feature maps from an image with a clear path to one without. Try experimenting with a similar test to show that your trained network's weights are looking for interesting features, whether it's looking at differences in feature maps from images with or without a sign, or even what feature maps look like in a trained network vs a completely untrained one on the same sign image.\n",
    "\n",
    "<figure>\n",
    " <img src=\"visualize_cnn.png\" width=\"380\" alt=\"Combined Image\" />\n",
    " <figcaption>\n",
    " <p></p> \n",
    " <p style=\"text-align: center;\"> Your output should look something like this (above)</p> \n",
    " </figcaption>\n",
    "</figure>\n",
    " <p></p> \n"
   ]
  },
  {
   "cell_type": "code",
   "execution_count": null,
   "metadata": {
    "collapsed": true
   },
   "outputs": [],
   "source": [
    "### Visualize your network's feature maps here.\n",
    "### Feel free to use as many code cells as needed.\n",
    "\n",
    "# image_input: the test image being fed into the network to produce the feature maps\n",
    "# tf_activation: should be a tf variable name used during your training procedure that represents the calculated state of a specific weight layer\n",
    "# activation_min/max: can be used to view the activation contrast in more detail, by default matplot sets min and max to the actual min and max values of the output\n",
    "# plt_num: used to plot out multiple different weight feature map sets on the same block, just extend the plt number for each new feature map entry\n",
    "\n",
    "def outputFeatureMap(image_input, tf_activation, activation_min=-1, activation_max=-1 ,plt_num=1):\n",
    "    # Here make sure to preprocess your image_input in a way your network expects\n",
    "    # with size, normalization, ect if needed\n",
    "    # image_input =\n",
    "    # Note: x should be the same name as your network's tensorflow data placeholder variable\n",
    "    # If you get an error tf_activation is not defined it may be having trouble accessing the variable from inside a function\n",
    "    activation = tf_activation.eval(session=sess,feed_dict={x : image_input})\n",
    "    featuremaps = activation.shape[3]\n",
    "    plt.figure(plt_num, figsize=(15,15))\n",
    "    for featuremap in range(featuremaps):\n",
    "        plt.subplot(6,8, featuremap+1) # sets the number of feature maps to show on each row and column\n",
    "        plt.title('FeatureMap ' + str(featuremap)) # displays the feature map number\n",
    "        if activation_min != -1 & activation_max != -1:\n",
    "            plt.imshow(activation[0,:,:, featuremap], interpolation=\"nearest\", vmin =activation_min, vmax=activation_max, cmap=\"gray\")\n",
    "        elif activation_max != -1:\n",
    "            plt.imshow(activation[0,:,:, featuremap], interpolation=\"nearest\", vmax=activation_max, cmap=\"gray\")\n",
    "        elif activation_min !=-1:\n",
    "            plt.imshow(activation[0,:,:, featuremap], interpolation=\"nearest\", vmin=activation_min, cmap=\"gray\")\n",
    "        else:\n",
    "            plt.imshow(activation[0,:,:, featuremap], interpolation=\"nearest\", cmap=\"gray\")"
   ]
  }
 ],
 "metadata": {
  "anaconda-cloud": {},
  "kernelspec": {
   "display_name": "Python 3",
   "language": "python",
   "name": "python3"
  },
  "language_info": {
   "codemirror_mode": {
    "name": "ipython",
    "version": 3
   },
   "file_extension": ".py",
   "mimetype": "text/x-python",
   "name": "python",
   "nbconvert_exporter": "python",
   "pygments_lexer": "ipython3",
   "version": "3.5.2"
  },
  "widgets": {
   "state": {},
   "version": "1.1.2"
  }
 },
 "nbformat": 4,
 "nbformat_minor": 1
}
